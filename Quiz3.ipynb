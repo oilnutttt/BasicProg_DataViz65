{
  "nbformat": 4,
  "nbformat_minor": 0,
  "metadata": {
    "colab": {
      "name": "Quiz3.ipynb",
      "provenance": [],
      "authorship_tag": "ABX9TyMivrUcTzPYvaYRzhS9QaC5",
      "include_colab_link": true
    },
    "kernelspec": {
      "name": "python3",
      "display_name": "Python 3"
    },
    "language_info": {
      "name": "python"
    }
  },
  "cells": [
    {
      "cell_type": "markdown",
      "metadata": {
        "id": "view-in-github",
        "colab_type": "text"
      },
      "source": [
        "<a href=\"https://colab.research.google.com/github/oilnutttt/BasicProg_DataViz65/blob/main/Quiz3.ipynb\" target=\"_parent\"><img src=\"https://colab.research.google.com/assets/colab-badge.svg\" alt=\"Open In Colab\"/></a>"
      ]
    },
    {
      "cell_type": "markdown",
      "source": [
        "##Quiz3\n",
        "เขียน function แสดงความต่างของเวลาโดย input อยู่ในรูปแบบ 'XX:YY:ZZ - AA:BB:CC'\n",
        "\n",
        "และวนลูปแสดงผลของ input ต่อไปนี้\n",
        "\n",
        "  * '09:11:50 - 12:30:15'\n",
        "  * '13:41:07 - 20:00:18'\n",
        "  * '00:00:00 - 23:59:59'\n",
        "  * '18:04:11 - 00:00:00'\n",
        "  * '21:30:00 - 03:05:15'\n",
        "  \n",
        "ตัวอย่าง input '00:00:00-01:00:00'\n",
        "\n",
        "output ช่วงระยะเวลาระหว่าง 00:00:00 ถึง 01:00:00 มีเวลาทั้งหมด 3,600 วินาที"
      ],
      "metadata": {
        "id": "zwY3k39PK3ox"
      }
    },
    {
      "cell_type": "code",
      "source": [
        "def print_Time(time) :\n",
        "      x= time\n",
        "      y=x.split(' - ')\n",
        "      start=y[0].split(':')\n",
        "      end=y[1].split(':')\n",
        "      \n",
        "      starttime = int(start[0])*3600 + int(start[1])*60 + int(start[2])\n",
        "      endtime = int(end[0])*3600+ int(end[1])*60 + int(end[2])\n",
        "     \n",
        "      if endtime > starttime:\n",
        "        print(f'ช่วงระยะเวลาระหว่าง {y[0]} ถึง {y[1]} มีเวลาทั้งหมด {endtime - starttime: ,} วินาที')\n",
        "      else:\n",
        "        print(f'ช่วงระยะเวลาระหว่าง {y[0]} ถึง {y[1]} มีเวลาทั้งหมด {(endtime+24*60*60) - starttime: ,} วินาที')"
      ],
      "metadata": {
        "id": "m2fzPqKwLCHk"
      },
      "execution_count": 1,
      "outputs": []
    },
    {
      "cell_type": "code",
      "source": [
        "for time in ['09:11:50 - 12:30:15','13:41:07 - 20:00:18','00:00:00 - 23:59:59','18:04:11 - 00:00:00','21:30:00 - 03:05:15']:\n",
        "    T = time\n",
        "    print_Time(T)"
      ],
      "metadata": {
        "colab": {
          "base_uri": "https://localhost:8080/"
        },
        "id": "p7YqEQWNLGLO",
        "outputId": "a5dc54d9-c5b7-4dce-ca32-d4e8e99ce3bf"
      },
      "execution_count": 2,
      "outputs": [
        {
          "output_type": "stream",
          "name": "stdout",
          "text": [
            "ช่วงระยะเวลาระหว่าง 09:11:50 ถึง 12:30:15 มีเวลาทั้งหมด  11,905 วินาที\n",
            "ช่วงระยะเวลาระหว่าง 13:41:07 ถึง 20:00:18 มีเวลาทั้งหมด  22,751 วินาที\n",
            "ช่วงระยะเวลาระหว่าง 00:00:00 ถึง 23:59:59 มีเวลาทั้งหมด  86,399 วินาที\n",
            "ช่วงระยะเวลาระหว่าง 18:04:11 ถึง 00:00:00 มีเวลาทั้งหมด  21,349 วินาที\n",
            "ช่วงระยะเวลาระหว่าง 21:30:00 ถึง 03:05:15 มีเวลาทั้งหมด  20,115 วินาที\n"
          ]
        }
      ]
    }
  ]
}